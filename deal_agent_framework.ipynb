{
 "cells": [
  {
   "cell_type": "markdown",
   "id": "ee6a7ac6",
   "metadata": {},
   "source": [
    "# The Price is Right\n",
    "So this notebook is like the “next level” — now that I have a solid pricing model, I’m building a Scanning Agent that automatically looks for good product deals from RSS feeds and filters out the best ones"
   ]
  },
  {
   "cell_type": "code",
   "execution_count": 1,
   "id": "5409df7d",
   "metadata": {},
   "outputs": [],
   "source": [
    "# imports\n",
    "\n",
    "import os\n",
    "import json\n",
    "from dotenv import load_dotenv\n",
    "from openai import OpenAI\n",
    "from agents.deals import ScrapedDeal, DealSelection"
   ]
  },
  {
   "cell_type": "code",
   "execution_count": 2,
   "id": "dd75e0c1",
   "metadata": {},
   "outputs": [],
   "source": [
    "# Initialize and constants\n",
    "\n",
    "load_dotenv(override=True)\n",
    "os.environ['OPENAI_API_KEY'] = os.getenv('OPENAI_API_KEY', 'your-key-if-not-using-env')\n",
    "MODEL = 'gpt-4o-mini'\n",
    "openai = OpenAI()"
   ]
  },
  {
   "cell_type": "code",
   "execution_count": 3,
   "id": "a612a5dc",
   "metadata": {},
   "outputs": [
    {
     "name": "stderr",
     "output_type": "stream",
     "text": [
      "100%|██████████| 5/5 [04:09<00:00, 49.81s/it]\n"
     ]
    }
   ],
   "source": [
    "deals = ScrapedDeal.fetch(show_progress=True)"
   ]
  },
  {
   "cell_type": "code",
   "execution_count": 4,
   "id": "f4cbc15d",
   "metadata": {},
   "outputs": [
    {
     "data": {
      "text/plain": [
       "50"
      ]
     },
     "execution_count": 4,
     "metadata": {},
     "output_type": "execute_result"
    }
   ],
   "source": [
    "len(deals)"
   ]
  },
  {
   "cell_type": "code",
   "execution_count": 5,
   "id": "db2af179",
   "metadata": {},
   "outputs": [
    {
     "data": {
      "text/plain": [
       "\"Title: Popeyes Big Box Deal for $6\\nDetails: For $6 you get a 2-piece chicken signatures or 3-piece tenders, two regular sides, and a biscuit.If you're in the mood for fast food, you can save even more with these\\xa0Uber Eats promo codes. Buy Now at Popeyes\\nFeatures: \\nURL: https://www.dealnews.com/Popeyes-Big-Box-Deal-for-6/21776210.html?iref=rss-c196\""
      ]
     },
     "execution_count": 5,
     "metadata": {},
     "output_type": "execute_result"
    }
   ],
   "source": [
    "deals[44].describe()"
   ]
  },
  {
   "cell_type": "code",
   "execution_count": 6,
   "id": "7f4c727b",
   "metadata": {},
   "outputs": [],
   "source": [
    "system_prompt = \"\"\"You identify and summarize the 5 most detailed deals from a list, by selecting deals that have the most detailed, high quality description and the most clear price.\n",
    "Respond strictly in JSON with no explanation, using this format. You should provide the price as a number derived from the description. If the price of a deal isn't clear, do not include that deal in your response.\n",
    "Most important is that you respond with the 5 deals that have the most detailed product description with price. It's not important to mention the terms of the deal; most important is a thorough description of the product.\n",
    "Be careful with products that are described as \"$XXX off\" or \"reduced by $XXX\" - this isn't the actual price of the product. Only respond with products when you are highly confident about the price. \n",
    "\n",
    "{\"deals\": [\n",
    "    {\n",
    "        \"product_description\": \"Your clearly expressed summary of the product in 4-5 sentences. Details of the item are much more important than why it's a good deal. Avoid mentioning discounts and coupons; focus on the item itself. There should be a paragpraph of text for each item you choose.\",\n",
    "        \"price\": 99.99,\n",
    "        \"url\": \"the url as provided\"\n",
    "    },\n",
    "    ...\n",
    "]}\"\"\""
   ]
  },
  {
   "cell_type": "code",
   "execution_count": 7,
   "id": "0f5d0a14",
   "metadata": {},
   "outputs": [],
   "source": [
    "user_prompt = \"\"\"Respond with the most promising 5 deals from this list, selecting those which have the most detailed, high quality product description and a clear price.\n",
    "Respond strictly in JSON, and only JSON. You should rephrase the description to be a summary of the product itself, not the terms of the deal.\n",
    "Remember to respond with a paragraph of text in the product_description field for each of the 5 items that you select.\n",
    "Be careful with products that are described as \"$XXX off\" or \"reduced by $XXX\" - this isn't the actual price of the product. Only respond with products when you are highly confident about the price. \n",
    "\n",
    "Deals:\n",
    "\n",
    "\"\"\"\n",
    "user_prompt += '\\n\\n'.join([deal.describe() for deal in deals])"
   ]
  },
  {
   "cell_type": "code",
   "execution_count": 8,
   "id": "8c3347d3",
   "metadata": {},
   "outputs": [
    {
     "name": "stdout",
     "output_type": "stream",
     "text": [
      "Respond with the most promising 5 deals from this list, selecting those which have the most detailed, high quality product description and a clear price.\n",
      "Respond strictly in JSON, and only JSON. You should rephrase the description to be a summary of the product itself, not the terms of the deal.\n",
      "Remember to respond with a paragraph of text in the product_description field for each of the 5 items that you select.\n",
      "Be careful with products that are described as \"$XXX off\" or \"reduced by $XXX\" - this isn't the actual price of the product. Only respond with products when you are highly confident about the price. \n",
      "\n",
      "Deals:\n",
      "\n",
      "Title: Hisense U7 Series 85U7K 85\" 4K 144Hz ULED UHD Smart TV (2023) for $998 + free shipping\n",
      "Details: It's $500 under our mention from a year ago, $700 off original list, the best price we've seen, and a solid deal on an 85\" TV with these specs. Buy Now at Walmart\n",
      "Features: 3840x2160 (4K) resolution 144Hz Google TV compatible with Amazon Alexa and Google Assistant HDMI 2.1 inputs Model: 85U7K\n",
      "URL: https://www.dealnews.com/products/Hisense/Hisense-U7-Series-85-U7-K-85-4-K-144-Hz-ULED-UHD-Smart-TV-2023/459711.html?iref=rss-c142\n",
      "\n",
      "Title: Apple MagSafe Charger for $19 + free shipping w/ $35\n",
      "Details: That's the best deal we've ever seen on it. It's over $30 on Amazon right now. Buy Now at Walmart\n",
      "Features: 20W USB-C magnetic alignment Model: MHXH3AM/A\n",
      "URL: https://www.dealnews.com/products/Apple/Apple-Mag-Safe-Charger/281063.html?iref=rss-c142\n",
      "\n",
      "Title: Wearable Bluetooth Speaker for $19 + free shipping w/ $35\n",
      "Details: Buy Now at Walmart\n",
      "Features: water resistant N52 neodymium driver and noise suppression clip-on\n",
      "URL: https://www.dealnews.com/Wearable-Bluetooth-Speaker-for-19-free-shipping-w-35/21776236.html?iref=rss-c142\n",
      "\n",
      "Title: Electronics Flash Deals at Walmart: Up to 84% off + free shipping w/ $35\n",
      "Details: Save on discounted laptops, TVs, printers, speakers, headphones, and more. Shipping adds $6.99 or orders of $35 or more ships for free. Select items may\n"
     ]
    }
   ],
   "source": [
    "print(user_prompt[:2000])"
   ]
  },
  {
   "cell_type": "code",
   "execution_count": 9,
   "id": "f9d5e88c",
   "metadata": {},
   "outputs": [],
   "source": [
    "# This is the main function that talks to OpenAI’s API.\n",
    "# It sends the system_prompt and user_prompt together, asks for JSON-only output, and parses it into the DealSelection data structure\n",
    "def get_recommendations():\n",
    "    completion = openai.beta.chat.completions.parse(\n",
    "        model=\"gpt-4o-mini\",\n",
    "        messages=[\n",
    "            {\"role\": \"system\", \"content\": system_prompt},\n",
    "            {\"role\": \"user\", \"content\": user_prompt}\n",
    "      ],\n",
    "        response_format=DealSelection\n",
    "    )\n",
    "    result = completion.choices[0].message.parsed\n",
    "    return result"
   ]
  },
  {
   "cell_type": "code",
   "execution_count": 10,
   "id": "879acc41",
   "metadata": {},
   "outputs": [],
   "source": [
    "result = get_recommendations()"
   ]
  },
  {
   "cell_type": "code",
   "execution_count": 11,
   "id": "11689700",
   "metadata": {},
   "outputs": [
    {
     "data": {
      "text/plain": [
       "5"
      ]
     },
     "execution_count": 11,
     "metadata": {},
     "output_type": "execute_result"
    }
   ],
   "source": [
    "len(result.deals)"
   ]
  },
  {
   "cell_type": "code",
   "execution_count": 12,
   "id": "a051ddd3",
   "metadata": {},
   "outputs": [
    {
     "data": {
      "text/plain": [
       "Deal(product_description='The Sumry 4,000W Hybrid Solar Inverter is designed to convert DC power from solar panels to AC power for your home. It features a DC input of 34V to output AC at 110V, making it versatile for various solutions. The built-in 140A MPPT solar charger enables efficient energy management, compatible with both 24V lead-acid and lithium batteries. Its robust design ensures reliability and performance in solar energy applications, making it an excellent investment for sustainable energy use.', price=244.0, url='https://www.dealnews.com/products/Sumry/Sumry-4-000-W-Hybrid-Solar-Inverter/490788.html?iref=rss-c142')"
      ]
     },
     "execution_count": 12,
     "metadata": {},
     "output_type": "execute_result"
    }
   ],
   "source": [
    "result.deals[1]"
   ]
  },
  {
   "cell_type": "code",
   "execution_count": 13,
   "id": "24261241",
   "metadata": {},
   "outputs": [],
   "source": [
    "from agents.scanner_agent import ScannerAgent"
   ]
  },
  {
   "cell_type": "code",
   "execution_count": 14,
   "id": "1286d820",
   "metadata": {},
   "outputs": [],
   "source": [
    "# Here I’m bringing in my custom ScannerAgent, which wraps all this logic — it scrapes, runs GPT, and returns best deals automatically\n",
    "agent = ScannerAgent()\n",
    "result = agent.scan()"
   ]
  },
  {
   "cell_type": "code",
   "execution_count": 15,
   "id": "96682272",
   "metadata": {},
   "outputs": [
    {
     "data": {
      "text/plain": [
       "DealSelection(deals=[Deal(product_description='The Hisense U7 Series 85U7K is a massive 85\" Smart TV that delivers stunning 4K resolution at 3840x2160 pixels. It boasts a fast 144Hz refresh rate, making it perfect for high-speed gaming and action-packed movies. This TV is Google TV compatible and integrates smoothly with Amazon Alexa and Google Assistant for voice control. With multiple HDMI 2.1 inputs, you can easily connect all your devices, making this a versatile and powerful addition to your entertainment setup.', price=998.0, url='https://www.dealnews.com/products/Hisense/Hisense-U7-Series-85-U7-K-85-4-K-144-Hz-ULED-UHD-Smart-TV-2023/459711.html?iref=rss-c142'), Deal(product_description=\"This Apple MagSafe Charger ensures your devices charge quickly and effortlessly with its 20W USB-C magnetic alignment technology. Designed specifically for iPhones and other compatible devices, the charger offers a seamless charging experience and easy attachment. Lightweight and compact, it's perfect for on-the-go charging and is a must-have accessory for those utilizing the MagSafe system in their Apple devices.\", price=19.0, url='https://www.dealnews.com/products/Apple/Apple-Mag-Safe-Charger/281063.html?iref=rss-c142'), Deal(product_description=\"The Sumry 4,000W Hybrid Solar Inverter is a robust device designed to convert DC 34V to AC 110V, making it ideal for various solar applications. This inverter comes equipped with a built-in 140A MPPT solar charger for increased efficiency. It's compatible with both 24V lead-acid and lithium batteries, allowing flexibility in power storage options. With a maximum output of 4,000W, it's suitable for home or outdoor use and supports a wide range of devices.\", price=244.0, url='https://www.dealnews.com/products/Sumry/Sumry-4-000-W-Hybrid-Solar-Inverter/490788.html?iref=rss-c142'), Deal(product_description=\"The Corsair Vengeance RGB 32GB (2x16GB) DDR5 Desktop Memory is designed for high performance and speed in gaming and multitasking. Featuring advanced RGB lighting effects, it not only boosts your system's capabilities but also enhances its aesthetic appeal. With a data rate of 6000MHz, this memory ensures smooth operation for demanding applications and games. Its 288-pin design makes it compatible with the latest motherboards, making it a perfect upgrade for any PC enthusiast.\", price=160.0, url='https://www.dealnews.com/products/Corsair/Corsair-Vengeance-RGB-32-GB-2-x16-GB-DDR5-Destkop-Memory/494964.html?iref=rss-c39'), Deal(product_description='The iRobot Roomba j7+ Self-Emptying Robot Vacuum offers advanced cleaning technology with smart mapping capabilities to adapt to your home layout. It features a self-cleaning cartridge that automatically empties debris, making it easy to maintain. Its powerful suction and filters capture dust, dirt, and allergens, ensuring a thorough clean. Compatible with voice assistants, this vacuum can be easily controlled for efficient cleaning whenever you need it.', price=169.0, url='https://www.dealnews.com/products/iRobot/iRobot-Roomba-j7-Self-Emptying-Robot-Vacuum/455442.html?iref=rss-f1912')])"
      ]
     },
     "execution_count": 15,
     "metadata": {},
     "output_type": "execute_result"
    }
   ],
   "source": [
    "result"
   ]
  },
  {
   "cell_type": "markdown",
   "id": "fb606b4f",
   "metadata": {},
   "source": [
    "## The Price is Right\n",
    "First we'll polish off 2 more simple agents:\n",
    "\n",
    "The Messaging Agent to send push notifications\n",
    "\n",
    "The Planning Agent to coordinate activities\n",
    "\n",
    "Then we'll put it all together into an Agent Framework.\n",
    "\n",
    "For the Push Notification, we will be using a nifty platform called Pushover.\n",
    "we'll need to set up a free account and add 2 tokens to our .env file:\n",
    "\n",
    "PUSHOVER_USER=xxx\n",
    "PUSHOVER_TOKEN=xxx"
   ]
  },
  {
   "cell_type": "code",
   "execution_count": 16,
   "id": "95d3566f",
   "metadata": {},
   "outputs": [],
   "source": [
    "from dotenv import load_dotenv\n",
    "from agents.messaging_agent import MessagingAgent"
   ]
  },
  {
   "cell_type": "code",
   "execution_count": 17,
   "id": "40d672b0",
   "metadata": {},
   "outputs": [],
   "source": [
    "load_dotenv(override=True)\n",
    "DB = \"products_vectorstore\""
   ]
  },
  {
   "cell_type": "code",
   "execution_count": 18,
   "id": "e6a2969e",
   "metadata": {},
   "outputs": [],
   "source": [
    "# Create the MessagingAgent() instance and test by pushing a sample message (“MASSIVE NEWS!!!”).\n",
    "\n",
    "agent = MessagingAgent()"
   ]
  },
  {
   "cell_type": "code",
   "execution_count": 19,
   "id": "e17c7cea",
   "metadata": {},
   "outputs": [],
   "source": [
    "# This should send me a push notification on my registered device\n",
    "agent.push(\"MASSIVE NEWS!!!\")"
   ]
  },
  {
   "cell_type": "code",
   "execution_count": 20,
   "id": "dafaaf20",
   "metadata": {},
   "outputs": [],
   "source": [
    "# The final step — connecting everything with a PlanningAgent, which coordinates between other agents (like messaging, pricing, and scanning)\n",
    "import chromadb\n",
    "DB = \"products_vectorstore\"\n",
    "client = chromadb.PersistentClient(path=DB)\n",
    "collection = client.get_or_create_collection('products')\n",
    "from agents.planning_agent import PlanningAgent"
   ]
  },
  {
   "cell_type": "code",
   "execution_count": 21,
   "id": "45aa5f4f",
   "metadata": {},
   "outputs": [],
   "source": [
    "planner = PlanningAgent(collection)"
   ]
  },
  {
   "cell_type": "code",
   "execution_count": 22,
   "id": "85b116fa",
   "metadata": {},
   "outputs": [
    {
     "data": {
      "text/plain": [
       "Opportunity(deal=Deal(product_description='The Sumry 4,000W Hybrid Solar Inverter converts DC power from solar panels or batteries to AC power for home use. It features a built-in 140A MPPT solar charger, allowing it to efficiently charge 24V lead-acid and lithium batteries. This inverter is suitable for various applications, combining renewable energy technology with reliable performance, making it an ideal choice for energy independence.', price=244.0, url='https://www.dealnews.com/products/Sumry/Sumry-4-000-W-Hybrid-Solar-Inverter/490788.html?iref=rss-c142'), estimate=527.9321901899604, discount=283.93219018996035)"
      ]
     },
     "execution_count": 22,
     "metadata": {},
     "output_type": "execute_result"
    }
   ],
   "source": [
    "planner.plan()"
   ]
  },
  {
   "cell_type": "code",
   "execution_count": null,
   "id": "24b52d4c",
   "metadata": {},
   "outputs": [],
   "source": []
  }
 ],
 "metadata": {
  "kernelspec": {
   "display_name": "myenv",
   "language": "python",
   "name": "python3"
  },
  "language_info": {
   "codemirror_mode": {
    "name": "ipython",
    "version": 3
   },
   "file_extension": ".py",
   "mimetype": "text/x-python",
   "name": "python",
   "nbconvert_exporter": "python",
   "pygments_lexer": "ipython3",
   "version": "3.11.9"
  }
 },
 "nbformat": 4,
 "nbformat_minor": 5
}
