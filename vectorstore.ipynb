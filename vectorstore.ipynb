{
 "cells": [
  {
   "cell_type": "markdown",
   "id": "c34612ac",
   "metadata": {},
   "source": [
    "# The Price is Right\n",
    "Today we build a more complex solution for estimating prices of goods.\n",
    "\n",
    "This notebook: create a RAG database with our 400,000 training data\n",
    "preperation for  2D\n",
    "\n",
    "\n",
    "\n",
    "\n"
   ]
  },
  {
   "cell_type": "code",
   "execution_count": null,
   "id": "fa8af415",
   "metadata": {},
   "outputs": [],
   "source": [
    "# This cell loads all the Python libraries we need — data stuff, embedding model, Chroma, plotting. If any import fails, install that package in myenv\n",
    "\n",
    "import os\n",
    "import re\n",
    "import math\n",
    "import json\n",
    "from tqdm import tqdm\n",
    "import random\n",
    "from dotenv import load_dotenv\n",
    "from huggingface_hub import login\n",
    "import numpy as np\n",
    "import pickle\n",
    "from sentence_transformers import SentenceTransformer\n",
    "from datasets import load_dataset\n",
    "import chromadb\n",
    "from sklearn.manifold import TSNE\n",
    "import plotly.graph_objects as go"
   ]
  },
  {
   "cell_type": "code",
   "execution_count": null,
   "id": "ea4fcba6",
   "metadata": {},
   "outputs": [],
   "source": [
    "# Load secrets from .env (OpenAI and HF tokens) and set a local DB folder name used by Chroma\n",
    "\n",
    "load_dotenv(override=True)\n",
    "os.environ['OPENAI_API_KEY'] = os.getenv('OPENAI_API_KEY', 'your-key-if-not-using-env')\n",
    "os.environ['HF_TOKEN'] = os.getenv('HF_TOKEN', 'your-key-if-not-using-env')\n",
    "DB = \"products_vectorstore\""
   ]
  },
  {
   "cell_type": "code",
   "execution_count": 33,
   "id": "2654b3db",
   "metadata": {},
   "outputs": [
    {
     "name": "stderr",
     "output_type": "stream",
     "text": [
      "Note: Environment variable`HF_TOKEN` is set and is the current active token independently from the token you've just configured.\n"
     ]
    }
   ],
   "source": [
    "# Log in to HuggingFace\n",
    "\n",
    "hf_token = os.environ['HF_TOKEN']\n",
    "login(hf_token, add_to_git_credential=True)"
   ]
  },
  {
   "cell_type": "code",
   "execution_count": null,
   "id": "a7c45159",
   "metadata": {},
   "outputs": [],
   "source": [
    "# Another import after Logging in to Hugging Face\n",
    "\n",
    "from items import Item"
   ]
  },
  {
   "cell_type": "code",
   "execution_count": null,
   "id": "c13f7d50",
   "metadata": {},
   "outputs": [],
   "source": [
    "# Load the pre-saved training data (train.pkl) that contains all product items. This is the dataset we’ll vectorize\n",
    "\n",
    "with open('train.pkl', 'rb') as file:\n",
    "    train = pickle.load(file)"
   ]
  },
  {
   "cell_type": "code",
   "execution_count": null,
   "id": "19e9728d",
   "metadata": {},
   "outputs": [
    {
     "data": {
      "text/plain": [
       "'How much does this cost to the nearest dollar?\\n\\nDelphi FG0166 Fuel Pump Module\\nDelphi brings 80 years of OE Heritage into each Delphi pump, ensuring quality and fitment for each Delphi part. Part is validated, tested and matched to the right vehicle application Delphi brings 80 years of OE Heritage into each Delphi assembly, ensuring quality and fitment for each Delphi part Always be sure to check and clean fuel tank to avoid unnecessary returns Rigorous OE-testing ensures the pump can withstand extreme temperatures Brand Delphi, Fit Type Vehicle Specific Fit, Dimensions LxWxH 19.7 x 7.7 x 5.1 inches, Weight 2.2 Pounds, Auto Part Position Unknown, Operation Mode Mechanical, Manufacturer Delphi, Model FUEL PUMP, Dimensions 19.7\\n\\nPrice is $227.00'"
      ]
     },
     "execution_count": 36,
     "metadata": {},
     "output_type": "execute_result"
    }
   ],
   "source": [
    "# Just showing the first item’s prompt so you can see data format and confirm load worked\n",
    "train[0].prompt"
   ]
  },
  {
   "cell_type": "markdown",
   "id": "0efa4f9f",
   "metadata": {},
   "source": [
    "# Now create a Chroma Datastore\n",
    "we created a Chroma datastore with 123 documents representing chunks of objects from our fictional company Insurellm.\n",
    "\n",
    "Now we will create a Chroma datastore with 400,000 products from our training dataset!\n",
    "\n",
    "Note that we won't be using LangChain, but the API is very straightforward and consistent with before.\n",
    "\n"
   ]
  },
  {
   "cell_type": "code",
   "execution_count": null,
   "id": "db091d29",
   "metadata": {},
   "outputs": [],
   "source": [
    "# We create a persistent Chroma client that uses DB = \"products_vectorstore\" to store vectors on disk\n",
    "client = chromadb.PersistentClient(path=DB)"
   ]
  },
  {
   "cell_type": "code",
   "execution_count": null,
   "id": "2c106633",
   "metadata": {},
   "outputs": [
    {
     "name": "stdout",
     "output_type": "stream",
     "text": [
      "Deleted existing collection: products\n",
      "Created new collection: products\n"
     ]
    }
   ],
   "source": [
    "# Check if a collection named \"products\" exists. If yes, delete it (so we start clean). Then create a new \"products\" collection\n",
    "collection_name = \"products\"\n",
    "\n",
    "# Get list of existing collections (names only)\n",
    "existing_collections = [col.name for col in client.list_collections()]\n",
    "\n",
    "# Delete if it already exists\n",
    "if collection_name in existing_collections:\n",
    "    client.delete_collection(name=collection_name)\n",
    "    print(f\"Deleted existing collection: {collection_name}\")\n",
    "\n",
    "# Now create a new one\n",
    "collection = client.create_collection(name=collection_name)\n",
    "print(f\"Created new collection: {collection_name}\")\n"
   ]
  },
  {
   "cell_type": "markdown",
   "id": "09420352",
   "metadata": {},
   "source": [
    "# Introducing the SentenceTransfomer\n",
    "The all-MiniLM is a very useful model from HuggingFace that maps sentences & paragraphs to a 384 dimensional dense vector space and is ideal for tasks like semantic search.\n",
    "\n",
    "\n",
    "https://huggingface.co/sentence-transformers/all-MiniLM-L6-v2\n",
    "\n",
    "\n",
    "It can run pretty quickly locally.\n",
    "\n",
    "Last time we used OpenAI embeddings to produce vector embeddings. Benefits compared to OpenAI embeddings:\n",
    "\n",
    "It's free and fast!\n",
    "We can run it locally, so the data never leaves our box - might be useful if you're building a personal RAG"
   ]
  },
  {
   "cell_type": "code",
   "execution_count": null,
   "id": "93c1da68",
   "metadata": {},
   "outputs": [],
   "source": [
    "# Instantiate the sentence-transformers/all-MiniLM-L6-v2 model. This maps text to 384-d vectors\n",
    "model = SentenceTransformer('sentence-transformers/all-MiniLM-L6-v2')"
   ]
  },
  {
   "cell_type": "code",
   "execution_count": null,
   "id": "7cba72d1",
   "metadata": {},
   "outputs": [
    {
     "data": {
      "text/plain": [
       "array([-9.46715921e-02,  4.27619070e-02,  5.51620349e-02, -5.10994985e-04,\n",
       "        1.16203846e-02, -6.80130348e-02,  2.76405867e-02,  6.06974773e-02,\n",
       "        2.88530439e-02, -1.74128152e-02, -4.94346730e-02,  2.30992734e-02,\n",
       "       -1.28614930e-02, -4.31402549e-02,  2.17509773e-02,  4.26549017e-02,\n",
       "        5.10500222e-02, -7.79727325e-02, -1.23247214e-01,  3.67456153e-02,\n",
       "        4.54111397e-03,  9.47937891e-02, -5.53099439e-02,  1.70641243e-02,\n",
       "       -2.92872153e-02, -4.47124727e-02,  2.06784774e-02,  6.39319867e-02,\n",
       "        2.27427743e-02,  4.87789139e-02, -2.33504479e-03,  4.72859293e-02,\n",
       "       -2.86259428e-02,  2.30624359e-02,  2.45130248e-02,  3.95681821e-02,\n",
       "       -4.33176607e-02, -1.02316648e-01,  2.79879849e-03,  2.39304397e-02,\n",
       "        1.61556248e-02, -8.99083726e-03,  2.07255650e-02,  6.40122816e-02,\n",
       "        6.89179078e-02, -6.98361024e-02,  2.89763510e-03, -8.10989141e-02,\n",
       "        1.71122495e-02,  2.50652479e-03, -1.06529027e-01, -4.87732477e-02,\n",
       "       -1.67762004e-02, -2.28662584e-02,  1.14816606e-01,  4.87413481e-02,\n",
       "       -1.64962597e-02, -6.90831989e-02,  1.13612123e-01, -7.18485489e-02,\n",
       "       -9.01571140e-02,  3.98977045e-06, -8.66769105e-02, -4.05916162e-02,\n",
       "        3.71317491e-02, -1.77618843e-02, -5.57464734e-02, -4.57096845e-02,\n",
       "       -5.43141402e-02, -4.00611758e-02, -4.60228212e-02,  2.82194559e-02,\n",
       "       -2.33606305e-02,  1.44406306e-02, -1.52777759e-02, -4.34328243e-02,\n",
       "        6.81273490e-02,  8.21894854e-02,  7.83891417e-03, -2.85972524e-02,\n",
       "        6.14309721e-02, -4.92685102e-02,  3.27053713e-03, -2.72683501e-02,\n",
       "       -4.59346734e-02, -2.60168388e-02,  5.70649803e-02, -5.86377457e-04,\n",
       "       -4.37076390e-02, -2.47793563e-04, -8.73550400e-02,  3.48776728e-02,\n",
       "        1.39327394e-02, -1.60043631e-02,  2.86957938e-02, -9.48595777e-02,\n",
       "        9.40612778e-02,  5.92686199e-02, -8.65014344e-02,  1.45011321e-01,\n",
       "        2.35388242e-02,  3.43325175e-02,  2.51576916e-04,  7.15541020e-02,\n",
       "       -3.12182028e-02,  3.86665612e-02, -2.47745048e-02,  6.52673915e-02,\n",
       "       -8.28816816e-02, -2.80247368e-02,  9.34546161e-03, -7.85535108e-03,\n",
       "        5.30728139e-02,  2.96895131e-02,  3.27329524e-02,  4.94736992e-02,\n",
       "        2.52208058e-02,  4.67068627e-02,  5.03404215e-02, -7.23745376e-02,\n",
       "        2.54435372e-02, -3.67216915e-02,  1.27569130e-02,  1.46063529e-02,\n",
       "        2.11492330e-02, -5.56909740e-02, -9.18518938e-03, -5.63396994e-34,\n",
       "        9.58769470e-02,  5.94577380e-02,  5.11445329e-02,  3.36360186e-02,\n",
       "       -1.34414323e-02, -2.77203396e-02, -3.48435827e-02,  1.80352647e-02,\n",
       "       -2.53211204e-02,  6.73582405e-03,  5.47840968e-02, -3.60573232e-02,\n",
       "       -5.20870164e-02, -2.90345177e-02,  4.38965624e-03,  6.50023147e-02,\n",
       "        3.07485890e-02,  2.00221427e-02,  1.73048105e-03,  2.96724285e-03,\n",
       "        3.40953073e-03, -6.78144917e-02,  3.41304541e-02,  8.37870222e-03,\n",
       "        5.39904125e-02,  2.70390045e-02,  7.84120262e-02, -1.30136281e-01,\n",
       "        4.84649725e-02,  5.14179580e-02, -7.94675760e-03,  5.57884248e-03,\n",
       "       -5.31025976e-02,  3.81299295e-02, -3.05513237e-02, -7.69779086e-02,\n",
       "        1.20531134e-02, -4.08993289e-02, -8.69358853e-02,  6.38056397e-02,\n",
       "        1.68675054e-02,  1.68732600e-03,  6.28894493e-02, -1.67711582e-02,\n",
       "        2.15586424e-02,  7.10046792e-04,  2.81037111e-03, -8.89799371e-03,\n",
       "       -1.80887803e-02, -2.16217451e-02, -5.59149608e-02,  1.78774465e-02,\n",
       "       -9.27093029e-02,  7.27915019e-03, -1.27753615e-01, -4.86937277e-02,\n",
       "        1.45872068e-02, -1.62751228e-02,  6.75622448e-02,  3.87702435e-02,\n",
       "        7.23295733e-02,  9.14992094e-02, -9.65292081e-02,  4.84791324e-02,\n",
       "       -1.06274143e-01, -1.05042001e-02,  8.90350193e-02, -8.07525218e-02,\n",
       "        7.87081271e-02, -2.04918440e-02, -5.55081107e-02, -3.31532434e-02,\n",
       "       -2.14429218e-02,  4.94699515e-02, -7.05119222e-02,  6.63998351e-02,\n",
       "        7.39670992e-02, -2.70115188e-03,  1.62262116e-02, -3.98228951e-02,\n",
       "        5.94092123e-02, -7.14361621e-03, -3.33479978e-02,  2.30419580e-02,\n",
       "        1.87185872e-02, -6.15725107e-02, -8.55321414e-04, -1.05786592e-01,\n",
       "       -8.43619183e-02, -3.92993391e-02, -3.16446684e-02,  6.60644025e-02,\n",
       "        9.41815749e-02, -8.35983083e-02,  9.50879417e-03,  1.25503571e-34,\n",
       "        6.38197735e-02,  2.11371258e-02, -1.65899545e-02,  1.88641436e-02,\n",
       "       -5.57019338e-02,  1.82812777e-03, -1.37586966e-02,  8.16278979e-02,\n",
       "       -9.13297087e-02,  7.06855878e-02,  6.79990649e-02, -5.44536076e-02,\n",
       "        3.80393788e-02,  3.80508415e-03,  1.03689842e-01,  7.32866640e-04,\n",
       "        2.95661576e-02,  4.19423468e-02, -1.20444365e-01,  1.24932854e-02,\n",
       "       -5.53506613e-02,  1.75228845e-02, -2.28164587e-02, -5.79299703e-02,\n",
       "        9.42928437e-03, -5.42279659e-03, -3.94946896e-03,  2.82349121e-02,\n",
       "       -1.28066882e-01, -1.31304841e-02,  7.42957219e-02, -1.74529459e-02,\n",
       "       -9.72759426e-02,  8.25622771e-03,  2.06901077e-02, -5.29770227e-03,\n",
       "       -1.37695391e-02, -3.50973718e-02,  1.74978562e-02, -1.76232848e-02,\n",
       "       -6.50825202e-02, -3.84675413e-02, -8.76396820e-02,  3.21292356e-02,\n",
       "        2.55018799e-03, -2.09379364e-02,  5.55309765e-02,  2.57096253e-02,\n",
       "       -2.94734892e-02,  1.25047313e-02, -6.83466718e-02, -8.00624490e-02,\n",
       "       -1.46906544e-02,  1.03744408e-02, -8.51863623e-02, -1.10538891e-02,\n",
       "        2.14596465e-02,  4.08609733e-02,  3.31646651e-02, -2.76757218e-02,\n",
       "       -2.01878045e-02,  8.98878556e-03,  3.92048582e-02,  1.15103297e-01,\n",
       "        5.50441295e-02,  2.72754822e-02, -1.09526716e-01, -1.72623806e-02,\n",
       "        1.33437896e-02, -1.73702333e-02, -5.04374364e-03, -2.00292505e-02,\n",
       "        1.16672345e-01, -1.84322782e-02,  3.70627753e-02,  1.60885621e-02,\n",
       "        3.48830409e-02,  5.50574809e-02, -6.60797767e-03,  7.06828758e-02,\n",
       "        4.07849364e-02, -1.43314628e-02, -2.85445340e-03,  2.74252146e-02,\n",
       "       -4.26769145e-02,  1.26583148e-02,  3.34343053e-02,  1.62644852e-02,\n",
       "        1.19263111e-02, -2.92119049e-02,  2.73978803e-02,  3.44304815e-02,\n",
       "        2.52832528e-02,  3.07514947e-02,  3.22557986e-02, -1.74628489e-08,\n",
       "       -1.52690569e-02,  5.37676783e-03,  1.41246557e-01,  5.08365855e-02,\n",
       "        5.32256849e-02,  9.67938825e-02,  4.33674380e-02, -6.48316508e-03,\n",
       "        1.58603601e-02,  4.05630581e-02,  6.94985092e-02,  6.04905412e-02,\n",
       "       -6.26189709e-02, -3.96144241e-02,  1.10648878e-01,  1.67735517e-02,\n",
       "       -7.68697122e-03,  2.59615686e-02, -5.28792962e-02, -2.22318340e-02,\n",
       "        1.74596366e-02,  4.75340150e-02,  3.27674486e-02, -4.59685475e-02,\n",
       "        2.01770347e-02, -1.60875805e-02, -1.58614293e-02, -1.66657921e-02,\n",
       "       -3.05246431e-02, -3.87907326e-02, -1.27654234e-02,  6.57610744e-02,\n",
       "       -2.22503580e-02, -9.44992341e-03,  2.32080370e-02,  2.66038626e-02,\n",
       "        2.14203876e-02, -7.54583534e-03,  8.84752646e-02, -9.43514407e-02,\n",
       "       -5.74869514e-02, -7.77098089e-02,  1.95788988e-03, -1.50347278e-02,\n",
       "       -8.08502920e-03,  1.88217834e-02,  8.42514914e-03, -3.78591679e-02,\n",
       "        1.24534611e-02, -7.94995800e-02, -2.15790160e-02,  1.20276920e-02,\n",
       "        1.74870826e-02,  8.74479339e-02,  6.64091632e-02,  3.13737020e-02,\n",
       "       -1.00628547e-02,  2.07700729e-02, -5.20163551e-02, -8.91340896e-03,\n",
       "        1.48542270e-01, -2.51266500e-03,  9.93155986e-02,  2.34929360e-02],\n",
       "      dtype=float32)"
      ]
     },
     "execution_count": 41,
     "metadata": {},
     "output_type": "execute_result"
    }
   ],
   "source": [
    "# Quick test: encode a sample sentence to verify model works and returns a vector\n",
    "\n",
    "vector = model.encode([\"Well hi there\"])[0]\n",
    "vector"
   ]
  },
  {
   "cell_type": "code",
   "execution_count": null,
   "id": "44beb04a",
   "metadata": {},
   "outputs": [],
   "source": [
    "# Helper functions to compute cosine similarity between two texts — handy for quick semantic checks\n",
    "import numpy as np\n",
    "def cosine_similarity(a, b):\n",
    "    return np.dot(a, b) / (np.linalg.norm(a) * np.linalg.norm(b))\n",
    "\n",
    "def how_similar(text1, text2):\n",
    "    vector1, vector2 = model.encode([text1, text2])\n",
    "    similarity = cosine_similarity(vector1, vector2)\n",
    "    print(f\"Similarity between {text1} and {text2} is {similarity*100:.1f}%\")"
   ]
  },
  {
   "cell_type": "code",
   "execution_count": null,
   "id": "3d2f072c",
   "metadata": {},
   "outputs": [
    {
     "name": "stdout",
     "output_type": "stream",
     "text": [
      "Similarity between Java and C++ is 50.7%\n",
      "Similarity between Java and mug is 25.8%\n",
      "Similarity between Cup of Java and mug is 49.3%\n"
     ]
    }
   ],
   "source": [
    "# We test similarity: Java vs C++, Java vs mug, \"Cup of Java\" vs mug. Shows model senses context\n",
    "\n",
    "how_similar(\"Java\", \"C++\")\n",
    "how_similar(\"Java\", \"mug\")\n",
    "how_similar(\"Cup of Java\", \"mug\")"
   ]
  },
  {
   "cell_type": "code",
   "execution_count": null,
   "id": "69b6f037",
   "metadata": {},
   "outputs": [],
   "source": [
    "# This function strips the question wrapper from each item and returns the plain product description — the exact text we’ll embed\n",
    "\n",
    "def description(item):\n",
    "    text = item.prompt.replace(\"How much does this cost to the nearest dollar?\\n\\n\", \"\")\n",
    "    return text.split(\"\\n\\nPrice is $\")[0]"
   ]
  },
  {
   "cell_type": "code",
   "execution_count": null,
   "id": "1905b9d7",
   "metadata": {},
   "outputs": [
    {
     "data": {
      "text/plain": [
       "'Delphi FG0166 Fuel Pump Module\\nDelphi brings 80 years of OE Heritage into each Delphi pump, ensuring quality and fitment for each Delphi part. Part is validated, tested and matched to the right vehicle application Delphi brings 80 years of OE Heritage into each Delphi assembly, ensuring quality and fitment for each Delphi part Always be sure to check and clean fuel tank to avoid unnecessary returns Rigorous OE-testing ensures the pump can withstand extreme temperatures Brand Delphi, Fit Type Vehicle Specific Fit, Dimensions LxWxH 19.7 x 7.7 x 5.1 inches, Weight 2.2 Pounds, Auto Part Position Unknown, Operation Mode Mechanical, Manufacturer Delphi, Model FUEL PUMP, Dimensions 19.7'"
      ]
     },
     "execution_count": 45,
     "metadata": {},
     "output_type": "execute_result"
    }
   ],
   "source": [
    "# Quick check to ensure description() works and shows a clean description\n",
    "description(train[0])"
   ]
  },
  {
   "cell_type": "markdown",
   "id": "e9a40218",
   "metadata": {},
   "source": [
    "# Now we populate our RAG datastore\n",
    "The next cell populates the 400,000 items in Chroma.\n",
    "\n",
    "we will go with a can change to:\n",
    "NUMBER_OF_DOCUMENTS = 30000\n",
    "And that's plenty for a perfectly good RAG pipeline.\n",
    "\n",
    "Just note that if you interrupt the below cell while it's running, you might need to clear out the Chroma datastore (by rerunning the earlier cell that deletes the collection), before you run it again. Otherwise it will complain that there are existing documents with the same ID."
   ]
  },
  {
   "cell_type": "markdown",
   "id": "3d40cc81",
   "metadata": {},
   "source": []
  },
  {
   "cell_type": "code",
   "execution_count": null,
   "id": "16142b44",
   "metadata": {},
   "outputs": [
    {
     "name": "stderr",
     "output_type": "stream",
     "text": [
      "100%|██████████| 30/30 [10:19<00:00, 20.65s/it]\n"
     ]
    }
   ],
   "source": [
    "# NUMBER_OF_DOCUMENTS = len(train)\n",
    "\n",
    "#we will vectorize and add 400k items to Chroma, the system is too slow so we will only take 30000\n",
    "NUMBER_OF_DOCUMENTS = 30000\n",
    "\n",
    "for i in tqdm(range(0, NUMBER_OF_DOCUMENTS, 1000)):\n",
    "    documents = [description(item) for item in train[i: i+1000]]\n",
    "    vectors = model.encode(documents).astype(float).tolist()\n",
    "    metadatas = [{\"category\": item.category, \"price\": item.price} for item in train[i: i+1000]]\n",
    "    ids = [f\"doc_{j}\" for j in range(i, i+len(documents))]\n",
    "    collection.add(\n",
    "        ids=ids,\n",
    "        documents=documents,\n",
    "        embeddings=vectors,\n",
    "        metadatas=metadatas\n",
    "    )"
   ]
  },
  {
   "cell_type": "code",
   "execution_count": null,
   "id": "e8740840",
   "metadata": {},
   "outputs": [],
   "source": []
  },
  {
   "cell_type": "code",
   "execution_count": null,
   "id": "81d9941d",
   "metadata": {},
   "outputs": [],
   "source": []
  },
  {
   "cell_type": "code",
   "execution_count": 19,
   "id": "3461dc6b",
   "metadata": {},
   "outputs": [],
   "source": [
    "# imports\n",
    "\n",
    "import os\n",
    "import re\n",
    "import math\n",
    "import json\n",
    "from tqdm import tqdm\n",
    "import random\n",
    "from dotenv import load_dotenv\n",
    "from huggingface_hub import login\n",
    "import numpy as np\n",
    "import pickle\n",
    "from sentence_transformers import SentenceTransformer\n",
    "from datasets import load_dataset\n",
    "import chromadb\n",
    "from sklearn.manifold import TSNE\n",
    "import plotly.graph_objects as go"
   ]
  },
  {
   "cell_type": "code",
   "execution_count": 20,
   "id": "872fad9d",
   "metadata": {},
   "outputs": [],
   "source": [
    "# It is very fun turning this up to 400_000 and seeing the full dataset visualized,\n",
    "# but it almost crashes my box every time so do that at your own risk!! 10_000 is safe!\n",
    "\n",
    "MAXIMUM_DATAPOINTS = 30_000"
   ]
  },
  {
   "cell_type": "code",
   "execution_count": 21,
   "id": "2c562e64",
   "metadata": {},
   "outputs": [],
   "source": [
    "DB = \"products_vectorstore\"\n",
    "client = chromadb.PersistentClient(path=DB)"
   ]
  },
  {
   "cell_type": "code",
   "execution_count": 22,
   "id": "ed78c3f3",
   "metadata": {},
   "outputs": [],
   "source": [
    "collection = client.get_or_create_collection('products')"
   ]
  },
  {
   "cell_type": "code",
   "execution_count": 23,
   "id": "de50b37a",
   "metadata": {},
   "outputs": [],
   "source": [
    "CATEGORIES = ['Appliances', 'Automotive', 'Cell_Phones_and_Accessories', 'Electronics','Musical_Instruments', 'Office_Products', 'Tools_and_Home_Improvement', 'Toys_and_Games']\n",
    "COLORS = ['red', 'blue', 'brown', 'orange', 'yellow', 'green' , 'purple', 'cyan']"
   ]
  },
  {
   "cell_type": "code",
   "execution_count": 24,
   "id": "a8c9cf7e",
   "metadata": {},
   "outputs": [],
   "source": [
    "# Prework\n",
    "result = collection.get(include=['embeddings', 'documents', 'metadatas'], limit=MAXIMUM_DATAPOINTS)\n",
    "vectors = np.array(result['embeddings'])\n",
    "documents = result['documents']\n",
    "categories = [metadata['category'] for metadata in result['metadatas']]\n",
    "colors = [COLORS[CATEGORIES.index(c)] for c in categories]"
   ]
  },
  {
   "cell_type": "code",
   "execution_count": 25,
   "id": "e0c4791a",
   "metadata": {},
   "outputs": [],
   "source": [
    "# Let's try a 2D chart\n",
    "\n",
    "tsne = TSNE(n_components=2, random_state=42, n_jobs=-1)\n",
    "reduced_vectors = tsne.fit_transform(vectors)"
   ]
  },
  {
   "cell_type": "code",
   "execution_count": 30,
   "id": "3b9bb854",
   "metadata": {},
   "outputs": [
    {
     "ename": "ValueError",
     "evalue": "Mime type rendering requires nbformat>=4.2.0 but it is not installed",
     "output_type": "error",
     "traceback": [
      "\u001b[31m---------------------------------------------------------------------------\u001b[39m",
      "\u001b[31mValueError\u001b[39m                                Traceback (most recent call last)",
      "\u001b[36mCell\u001b[39m\u001b[36m \u001b[39m\u001b[32mIn[30]\u001b[39m\u001b[32m, line 17\u001b[39m\n\u001b[32m      2\u001b[39m fig = go.Figure(data=[go.Scatter(\n\u001b[32m      3\u001b[39m     x=reduced_vectors[:, \u001b[32m0\u001b[39m],\n\u001b[32m      4\u001b[39m     y=reduced_vectors[:, \u001b[32m1\u001b[39m],\n\u001b[32m      5\u001b[39m     mode=\u001b[33m'\u001b[39m\u001b[33mmarkers\u001b[39m\u001b[33m'\u001b[39m,\n\u001b[32m      6\u001b[39m     marker=\u001b[38;5;28mdict\u001b[39m(size=\u001b[32m3\u001b[39m, color=colors, opacity=\u001b[32m0.7\u001b[39m),\n\u001b[32m      7\u001b[39m )])\n\u001b[32m      9\u001b[39m fig.update_layout(\n\u001b[32m     10\u001b[39m     title=\u001b[33m'\u001b[39m\u001b[33m2D Chroma Vectorstore Visualization\u001b[39m\u001b[33m'\u001b[39m,\n\u001b[32m     11\u001b[39m     scene=\u001b[38;5;28mdict\u001b[39m(xaxis_title=\u001b[33m'\u001b[39m\u001b[33mx\u001b[39m\u001b[33m'\u001b[39m, yaxis_title=\u001b[33m'\u001b[39m\u001b[33my\u001b[39m\u001b[33m'\u001b[39m),\n\u001b[32m   (...)\u001b[39m\u001b[32m     14\u001b[39m     margin=\u001b[38;5;28mdict\u001b[39m(r=\u001b[32m20\u001b[39m, b=\u001b[32m10\u001b[39m, l=\u001b[32m10\u001b[39m, t=\u001b[32m40\u001b[39m)\n\u001b[32m     15\u001b[39m )\n\u001b[32m---> \u001b[39m\u001b[32m17\u001b[39m \u001b[43mfig\u001b[49m\u001b[43m.\u001b[49m\u001b[43mshow\u001b[49m\u001b[43m(\u001b[49m\u001b[43m)\u001b[49m\n",
      "\u001b[36mFile \u001b[39m\u001b[32mc:\\Users\\mpant\\OneDrive\\Desktop\\ai\\myenv\\Lib\\site-packages\\plotly\\basedatatypes.py:3420\u001b[39m, in \u001b[36mBaseFigure.show\u001b[39m\u001b[34m(self, *args, **kwargs)\u001b[39m\n\u001b[32m   3387\u001b[39m \u001b[38;5;250m\u001b[39m\u001b[33;03m\"\"\"\u001b[39;00m\n\u001b[32m   3388\u001b[39m \u001b[33;03mShow a figure using either the default renderer(s) or the renderer(s)\u001b[39;00m\n\u001b[32m   3389\u001b[39m \u001b[33;03mspecified by the renderer argument\u001b[39;00m\n\u001b[32m   (...)\u001b[39m\u001b[32m   3416\u001b[39m \u001b[33;03mNone\u001b[39;00m\n\u001b[32m   3417\u001b[39m \u001b[33;03m\"\"\"\u001b[39;00m\n\u001b[32m   3418\u001b[39m \u001b[38;5;28;01mimport\u001b[39;00m\u001b[38;5;250m \u001b[39m\u001b[34;01mplotly\u001b[39;00m\u001b[34;01m.\u001b[39;00m\u001b[34;01mio\u001b[39;00m\u001b[38;5;250m \u001b[39m\u001b[38;5;28;01mas\u001b[39;00m\u001b[38;5;250m \u001b[39m\u001b[34;01mpio\u001b[39;00m\n\u001b[32m-> \u001b[39m\u001b[32m3420\u001b[39m \u001b[38;5;28;01mreturn\u001b[39;00m \u001b[43mpio\u001b[49m\u001b[43m.\u001b[49m\u001b[43mshow\u001b[49m\u001b[43m(\u001b[49m\u001b[38;5;28;43mself\u001b[39;49m\u001b[43m,\u001b[49m\u001b[43m \u001b[49m\u001b[43m*\u001b[49m\u001b[43margs\u001b[49m\u001b[43m,\u001b[49m\u001b[43m \u001b[49m\u001b[43m*\u001b[49m\u001b[43m*\u001b[49m\u001b[43mkwargs\u001b[49m\u001b[43m)\u001b[49m\n",
      "\u001b[36mFile \u001b[39m\u001b[32mc:\\Users\\mpant\\OneDrive\\Desktop\\ai\\myenv\\Lib\\site-packages\\plotly\\io\\_renderers.py:415\u001b[39m, in \u001b[36mshow\u001b[39m\u001b[34m(fig, renderer, validate, **kwargs)\u001b[39m\n\u001b[32m    410\u001b[39m     \u001b[38;5;28;01mraise\u001b[39;00m \u001b[38;5;167;01mValueError\u001b[39;00m(\n\u001b[32m    411\u001b[39m         \u001b[33m\"\u001b[39m\u001b[33mMime type rendering requires ipython but it is not installed\u001b[39m\u001b[33m\"\u001b[39m\n\u001b[32m    412\u001b[39m     )\n\u001b[32m    414\u001b[39m \u001b[38;5;28;01mif\u001b[39;00m \u001b[38;5;129;01mnot\u001b[39;00m nbformat \u001b[38;5;129;01mor\u001b[39;00m Version(nbformat.__version__) < Version(\u001b[33m\"\u001b[39m\u001b[33m4.2.0\u001b[39m\u001b[33m\"\u001b[39m):\n\u001b[32m--> \u001b[39m\u001b[32m415\u001b[39m     \u001b[38;5;28;01mraise\u001b[39;00m \u001b[38;5;167;01mValueError\u001b[39;00m(\n\u001b[32m    416\u001b[39m         \u001b[33m\"\u001b[39m\u001b[33mMime type rendering requires nbformat>=4.2.0 but it is not installed\u001b[39m\u001b[33m\"\u001b[39m\n\u001b[32m    417\u001b[39m     )\n\u001b[32m    419\u001b[39m display_jupyter_version_warnings()\n\u001b[32m    421\u001b[39m ipython_display.display(bundle, raw=\u001b[38;5;28;01mTrue\u001b[39;00m)\n",
      "\u001b[31mValueError\u001b[39m: Mime type rendering requires nbformat>=4.2.0 but it is not installed"
     ]
    }
   ],
   "source": [
    "\n",
    "# Create the 2D scatter plot\n",
    "fig = go.Figure(data=[go.Scatter(\n",
    "    x=reduced_vectors[:, 0],\n",
    "    y=reduced_vectors[:, 1],\n",
    "    mode='markers',\n",
    "    marker=dict(size=3, color=colors, opacity=0.7),\n",
    ")])\n",
    "\n",
    "fig.update_layout(\n",
    "    title='2D Chroma Vectorstore Visualization',\n",
    "    scene=dict(xaxis_title='x', yaxis_title='y'),\n",
    "    width=1200,\n",
    "    height=800,\n",
    "    margin=dict(r=20, b=10, l=10, t=40)\n",
    ")\n",
    "\n",
    "fig.show()"
   ]
  },
  {
   "cell_type": "code",
   "execution_count": null,
   "id": "115102f0",
   "metadata": {},
   "outputs": [],
   "source": []
  }
 ],
 "metadata": {
  "kernelspec": {
   "display_name": "myenv",
   "language": "python",
   "name": "python3"
  },
  "language_info": {
   "codemirror_mode": {
    "name": "ipython",
    "version": 3
   },
   "file_extension": ".py",
   "mimetype": "text/x-python",
   "name": "python",
   "nbconvert_exporter": "python",
   "pygments_lexer": "ipython3",
   "version": "3.11.9"
  }
 },
 "nbformat": 4,
 "nbformat_minor": 5
}
